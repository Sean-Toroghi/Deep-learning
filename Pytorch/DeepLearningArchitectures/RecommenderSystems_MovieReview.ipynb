{
 "cells": [
  {
   "cell_type": "markdown",
   "id": "bc519163-6f78-4983-9d37-720c24bc2257",
   "metadata": {
    "jp-MarkdownHeadingCollapsed": true
   },
   "source": [
    "<h1>Recommender system - movie review</h1>\n",
    "\n",
    "- dataset : MovieLens 100k\n",
    "- Task: generate a recommender system that gets a user id and generates top k movie titles as recommenation\n",
    "- Model: deep learning MLP\n",
    "- steps\n",
    "    - employ the model and users-ratings dataset, train the model\n",
    "    - for a given user and movies the user has not yet seen as input, generate prediction (ratings)\n",
    "    - sort ratings and produce the top-k ones as the recommendations for the user.\n",
    "\n"
   ]
  },
  {
   "attachments": {},
   "cell_type": "markdown",
   "id": "b6b6693f-3b4e-49b9-bf23-0accfad5e7c8",
   "metadata": {},
   "source": [
    "<img src=\"RecommenderSytems_1.png\" width=\"400\" height=\"350\">"
   ]
  },
  {
   "cell_type": "code",
   "execution_count": 108,
   "id": "7300224e-7b89-470b-9e9c-c87efb34ea69",
   "metadata": {},
   "outputs": [
    {
     "name": "stdout",
     "output_type": "stream",
     "text": [
      "cuda\n"
     ]
    }
   ],
   "source": [
    "import pandas as pd\n",
    "import numpy as np\n",
    "import random, os, gc, math, copy\n",
    "from pathlib import Path\n",
    "from sklearn.model_selection import train_test_split\n",
    "\n",
    "from itertools import zip_longest\n",
    "\n",
    "\n",
    "import torch\n",
    "from torch import nn\n",
    "from torch import optim\n",
    "device = torch.device(\"cuda\" if torch.cuda.is_available() else \"cpu\")\n",
    "print (device)"
   ]
  },
  {
   "cell_type": "code",
   "execution_count": 7,
   "id": "4307142b-0142-48ee-8a87-cfce4336aafa",
   "metadata": {},
   "outputs": [],
   "source": [
    "def random_seed(seed):\n",
    "    np.random.seed(seed)\n",
    "    torch.manual_seed(seed)\n",
    "    torch.cuda.manual_seed(seed)\n",
    "\n",
    "random_seed(3407)"
   ]
  },
  {
   "cell_type": "markdown",
   "id": "6a6773c6-bd92-4039-b9fc-5527bf9ca360",
   "metadata": {
    "jp-MarkdownHeadingCollapsed": true
   },
   "source": [
    "# Load data - EDA - preprocess\n",
    "\n",
    "Datasets:\n",
    "- movies.csv: movie metadata\n",
    "- ratings.csv: user ratings\n",
    "\n",
    "Preprocessing\n",
    "- add 'title' from movies to ratings; use ratings as the dataset to train model on\n",
    "- \n"
   ]
  },
  {
   "cell_type": "code",
   "execution_count": 12,
   "id": "08a4f21b-9a5d-4601-8cde-cd85cd6ca1fa",
   "metadata": {},
   "outputs": [
    {
     "name": "stdout",
     "output_type": "stream",
     "text": [
      "['links.csv', 'movies.csv', 'ratings.csv', 'README.txt', 'tags.csv']\n"
     ]
    }
   ],
   "source": [
    "root = Path(r'C:\\Work\\PyTorch\\data\\MovieLense_100k')\n",
    "print(os.listdir(root))"
   ]
  },
  {
   "cell_type": "code",
   "execution_count": 14,
   "id": "3bb7d85d-73e5-4af6-b9c9-8ae2e6ef39df",
   "metadata": {},
   "outputs": [
    {
     "data": {
      "text/plain": [
       "((9742, 3), (100836, 4), (3683, 4))"
      ]
     },
     "execution_count": 14,
     "metadata": {},
     "output_type": "execute_result"
    }
   ],
   "source": [
    "movies = pd.read_csv(os.path.join(root, 'movies.csv'))\n",
    "ratings = pd.read_csv(os.path.join(root , 'ratings.csv'))\n",
    "tags = pd.read_csv(os.path.join(root , 'tags.csv'))\n",
    "movies.shape, ratings.shape, tags.shape"
   ]
  },
  {
   "cell_type": "code",
   "execution_count": 18,
   "id": "f77b1598-d209-482d-ad61-b38b30b13657",
   "metadata": {},
   "outputs": [
    {
     "data": {
      "text/plain": [
       "'movies'"
      ]
     },
     "metadata": {},
     "output_type": "display_data"
    },
    {
     "data": {
      "text/html": [
       "<div>\n",
       "<style scoped>\n",
       "    .dataframe tbody tr th:only-of-type {\n",
       "        vertical-align: middle;\n",
       "    }\n",
       "\n",
       "    .dataframe tbody tr th {\n",
       "        vertical-align: top;\n",
       "    }\n",
       "\n",
       "    .dataframe thead th {\n",
       "        text-align: right;\n",
       "    }\n",
       "</style>\n",
       "<table border=\"1\" class=\"dataframe\">\n",
       "  <thead>\n",
       "    <tr style=\"text-align: right;\">\n",
       "      <th></th>\n",
       "      <th>movieId</th>\n",
       "      <th>title</th>\n",
       "      <th>genres</th>\n",
       "    </tr>\n",
       "  </thead>\n",
       "  <tbody>\n",
       "    <tr>\n",
       "      <th>0</th>\n",
       "      <td>1</td>\n",
       "      <td>Toy Story (1995)</td>\n",
       "      <td>Adventure|Animation|Children|Comedy|Fantasy</td>\n",
       "    </tr>\n",
       "    <tr>\n",
       "      <th>1</th>\n",
       "      <td>2</td>\n",
       "      <td>Jumanji (1995)</td>\n",
       "      <td>Adventure|Children|Fantasy</td>\n",
       "    </tr>\n",
       "  </tbody>\n",
       "</table>\n",
       "</div>"
      ],
      "text/plain": [
       "   movieId             title                                       genres\n",
       "0        1  Toy Story (1995)  Adventure|Animation|Children|Comedy|Fantasy\n",
       "1        2    Jumanji (1995)                   Adventure|Children|Fantasy"
      ]
     },
     "metadata": {},
     "output_type": "display_data"
    },
    {
     "data": {
      "text/plain": [
       "'ratings'"
      ]
     },
     "metadata": {},
     "output_type": "display_data"
    },
    {
     "data": {
      "text/html": [
       "<div>\n",
       "<style scoped>\n",
       "    .dataframe tbody tr th:only-of-type {\n",
       "        vertical-align: middle;\n",
       "    }\n",
       "\n",
       "    .dataframe tbody tr th {\n",
       "        vertical-align: top;\n",
       "    }\n",
       "\n",
       "    .dataframe thead th {\n",
       "        text-align: right;\n",
       "    }\n",
       "</style>\n",
       "<table border=\"1\" class=\"dataframe\">\n",
       "  <thead>\n",
       "    <tr style=\"text-align: right;\">\n",
       "      <th></th>\n",
       "      <th>userId</th>\n",
       "      <th>movieId</th>\n",
       "      <th>rating</th>\n",
       "      <th>timestamp</th>\n",
       "    </tr>\n",
       "  </thead>\n",
       "  <tbody>\n",
       "    <tr>\n",
       "      <th>0</th>\n",
       "      <td>1</td>\n",
       "      <td>1</td>\n",
       "      <td>4.0</td>\n",
       "      <td>964982703</td>\n",
       "    </tr>\n",
       "    <tr>\n",
       "      <th>1</th>\n",
       "      <td>1</td>\n",
       "      <td>3</td>\n",
       "      <td>4.0</td>\n",
       "      <td>964981247</td>\n",
       "    </tr>\n",
       "  </tbody>\n",
       "</table>\n",
       "</div>"
      ],
      "text/plain": [
       "   userId  movieId  rating  timestamp\n",
       "0       1        1     4.0  964982703\n",
       "1       1        3     4.0  964981247"
      ]
     },
     "metadata": {},
     "output_type": "display_data"
    },
    {
     "data": {
      "text/plain": [
       "'tags'"
      ]
     },
     "metadata": {},
     "output_type": "display_data"
    },
    {
     "data": {
      "text/html": [
       "<div>\n",
       "<style scoped>\n",
       "    .dataframe tbody tr th:only-of-type {\n",
       "        vertical-align: middle;\n",
       "    }\n",
       "\n",
       "    .dataframe tbody tr th {\n",
       "        vertical-align: top;\n",
       "    }\n",
       "\n",
       "    .dataframe thead th {\n",
       "        text-align: right;\n",
       "    }\n",
       "</style>\n",
       "<table border=\"1\" class=\"dataframe\">\n",
       "  <thead>\n",
       "    <tr style=\"text-align: right;\">\n",
       "      <th></th>\n",
       "      <th>userId</th>\n",
       "      <th>movieId</th>\n",
       "      <th>tag</th>\n",
       "      <th>timestamp</th>\n",
       "    </tr>\n",
       "  </thead>\n",
       "  <tbody>\n",
       "    <tr>\n",
       "      <th>0</th>\n",
       "      <td>2</td>\n",
       "      <td>60756</td>\n",
       "      <td>funny</td>\n",
       "      <td>1445714994</td>\n",
       "    </tr>\n",
       "    <tr>\n",
       "      <th>1</th>\n",
       "      <td>2</td>\n",
       "      <td>60756</td>\n",
       "      <td>Highly quotable</td>\n",
       "      <td>1445714996</td>\n",
       "    </tr>\n",
       "  </tbody>\n",
       "</table>\n",
       "</div>"
      ],
      "text/plain": [
       "   userId  movieId              tag   timestamp\n",
       "0       2    60756            funny  1445714994\n",
       "1       2    60756  Highly quotable  1445714996"
      ]
     },
     "metadata": {},
     "output_type": "display_data"
    }
   ],
   "source": [
    "with pd.option_context('display.max_colwidth', None\n",
    "                      , 'display.max_columns', None\n",
    "                      , 'display.max_rows', None):\n",
    "    display('movies',movies.head(2),'ratings', ratings.head(2),'tags', tags.head(2))"
   ]
  },
  {
   "cell_type": "markdown",
   "id": "95183982-53f6-4695-b82f-4f34cf0cbd6f",
   "metadata": {},
   "source": [
    "__Examine target__"
   ]
  },
  {
   "cell_type": "code",
   "execution_count": 19,
   "id": "81938172-cfe8-4fa8-ae59-4465f67765fb",
   "metadata": {},
   "outputs": [
    {
     "data": {
      "text/plain": [
       "(0.5, 5.0)"
      ]
     },
     "execution_count": 19,
     "metadata": {},
     "output_type": "execute_result"
    }
   ],
   "source": [
    "minmax = ratings.rating.min(), ratings.rating.max()\n",
    "minmax"
   ]
  },
  {
   "cell_type": "markdown",
   "id": "ede22248-9e34-46b7-b748-f00cc732857b",
   "metadata": {},
   "source": [
    "__Merge movies and ratings, by movieId__"
   ]
  },
  {
   "cell_type": "code",
   "execution_count": 22,
   "id": "de248300-bb50-4c58-b86f-d10f37c78cb8",
   "metadata": {},
   "outputs": [
    {
     "data": {
      "text/html": [
       "<div>\n",
       "<style scoped>\n",
       "    .dataframe tbody tr th:only-of-type {\n",
       "        vertical-align: middle;\n",
       "    }\n",
       "\n",
       "    .dataframe tbody tr th {\n",
       "        vertical-align: top;\n",
       "    }\n",
       "\n",
       "    .dataframe thead th {\n",
       "        text-align: right;\n",
       "    }\n",
       "</style>\n",
       "<table border=\"1\" class=\"dataframe\">\n",
       "  <thead>\n",
       "    <tr style=\"text-align: right;\">\n",
       "      <th></th>\n",
       "      <th>userId</th>\n",
       "      <th>movieId</th>\n",
       "      <th>rating</th>\n",
       "      <th>timestamp</th>\n",
       "      <th>title</th>\n",
       "    </tr>\n",
       "  </thead>\n",
       "  <tbody>\n",
       "    <tr>\n",
       "      <th>0</th>\n",
       "      <td>1</td>\n",
       "      <td>1</td>\n",
       "      <td>4.0</td>\n",
       "      <td>964982703</td>\n",
       "      <td>Toy Story (1995)</td>\n",
       "    </tr>\n",
       "    <tr>\n",
       "      <th>1</th>\n",
       "      <td>1</td>\n",
       "      <td>3</td>\n",
       "      <td>4.0</td>\n",
       "      <td>964981247</td>\n",
       "      <td>Grumpier Old Men (1995)</td>\n",
       "    </tr>\n",
       "    <tr>\n",
       "      <th>2</th>\n",
       "      <td>1</td>\n",
       "      <td>6</td>\n",
       "      <td>4.0</td>\n",
       "      <td>964982224</td>\n",
       "      <td>Heat (1995)</td>\n",
       "    </tr>\n",
       "  </tbody>\n",
       "</table>\n",
       "</div>"
      ],
      "text/plain": [
       "   userId  movieId  rating  timestamp                    title\n",
       "0       1        1     4.0  964982703         Toy Story (1995)\n",
       "1       1        3     4.0  964981247  Grumpier Old Men (1995)\n",
       "2       1        6     4.0  964982224              Heat (1995)"
      ]
     },
     "execution_count": 22,
     "metadata": {},
     "output_type": "execute_result"
    }
   ],
   "source": [
    "ratings = ratings.merge(movies[['movieId', 'title']], on ='movieId' )\n",
    "ratings.head(3)"
   ]
  },
  {
   "cell_type": "markdown",
   "id": "1911345c-f785-4fc7-9d22-1dc6fb0ffc63",
   "metadata": {
    "jp-MarkdownHeadingCollapsed": true
   },
   "source": [
    "# Custom dataset and dataloadder"
   ]
  },
  {
   "cell_type": "code",
   "execution_count": 101,
   "id": "46a5ea5c-19d8-4637-b702-a4073105919f",
   "metadata": {},
   "outputs": [
    {
     "name": "stdout",
     "output_type": "stream",
     "text": [
      "Embeddings: 610 users, 9724 movies\n",
      "Dataset shape: (100836, 2)\n",
      "Target shape: (100836,)\n"
     ]
    }
   ],
   "source": [
    "def create_dataset(ratings, top=None):\n",
    "    if top is not None:\n",
    "        ratings.groupby('userId')['rating'].count()\n",
    "    \n",
    "    unique_users = ratings.userId.unique()\n",
    "    user_to_index = {old: new for new, old in enumerate(unique_users)}\n",
    "    new_users = ratings.userId.map(user_to_index)\n",
    "    \n",
    "    unique_movies = ratings.movieId.unique()\n",
    "    movie_to_index = {old: new for new, old in enumerate(unique_movies)}\n",
    "    new_movies = ratings.movieId.map(movie_to_index)\n",
    "        \n",
    "    n_users = unique_users.shape[0]\n",
    "    n_movies = unique_movies.shape[0]\n",
    "    \n",
    "    X = pd.DataFrame({'user_id': new_users, 'movie_id': new_movies})\n",
    "    y = ratings['rating'].astype(np.float32)\n",
    "    return (n_users, n_movies), (X, y), (user_to_index, movie_to_index)\n",
    "\n",
    "\n",
    "(n, m), (X, y), (user_to_index, movie_to_index) = create_dataset(ratings)\n",
    "print(f'Embeddings: {n} users, {m} movies')\n",
    "print(f'Dataset shape: {X.shape}')\n",
    "print(f'Target shape: {y.shape}')"
   ]
  },
  {
   "cell_type": "code",
   "execution_count": 102,
   "id": "f9853ea3-909f-48bb-b049-858480e15d3d",
   "metadata": {},
   "outputs": [],
   "source": [
    "class ReviewsIterator:\n",
    "    \n",
    "    def __init__(self, X, y, batch_size=32, shuffle=True):\n",
    "        X, y = np.asarray(X), np.asarray(y)\n",
    "        \n",
    "        if shuffle:\n",
    "            index = np.random.permutation(X.shape[0])\n",
    "            X, y = X[index], y[index]\n",
    "            \n",
    "        self.X = X\n",
    "        self.y = y\n",
    "        self.batch_size = batch_size\n",
    "        self.shuffle = shuffle\n",
    "        self.n_batches = int(math.ceil(X.shape[0] // batch_size))\n",
    "        self._current = 0\n",
    "        \n",
    "    def __iter__(self):\n",
    "        return self\n",
    "    \n",
    "    def __next__(self):\n",
    "        return self.next()\n",
    "    \n",
    "    def next(self):\n",
    "        if self._current >= self.n_batches:\n",
    "            raise StopIteration()\n",
    "        k = self._current\n",
    "        self._current += 1\n",
    "        bs = self.batch_size\n",
    "        return self.X[k*bs:(k + 1)*bs], self.y[k*bs:(k + 1)*bs]"
   ]
  },
  {
   "cell_type": "code",
   "execution_count": 103,
   "id": "ad33ef1a-a99f-43ca-9db6-b17a8321a86a",
   "metadata": {},
   "outputs": [],
   "source": [
    "def batches(X, y, bs=32, shuffle=True):\n",
    "    for xb, yb in ReviewsIterator(X, y, bs, shuffle):\n",
    "        xb = torch.LongTensor(xb)\n",
    "        yb = torch.FloatTensor(yb)\n",
    "        yield xb, yb.view(-1, 1) "
   ]
  },
  {
   "cell_type": "code",
   "execution_count": 104,
   "id": "d3034e88-9103-4593-b5d9-d018ef644b29",
   "metadata": {},
   "outputs": [
    {
     "name": "stdout",
     "output_type": "stream",
     "text": [
      "tensor([[ 329,  728],\n",
      "        [ 369,  753],\n",
      "        [ 274, 6350],\n",
      "        [ 238, 2319]])\n",
      "tensor([[3.5000],\n",
      "        [4.5000],\n",
      "        [5.0000],\n",
      "        [4.0000]])\n"
     ]
    }
   ],
   "source": [
    "for x_batch, y_batch in batches(X, y, bs=4):\n",
    "    print(x_batch)\n",
    "    print(y_batch)\n",
    "    break"
   ]
  },
  {
   "cell_type": "code",
   "execution_count": 106,
   "id": "7cc3a9cf-74cc-46cb-b424-e0fde7afadcd",
   "metadata": {},
   "outputs": [],
   "source": [
    "X_train, X_valid, y_train, y_valid = train_test_split(X, y, test_size=0.2, random_state=3407)\n",
    "datasets = {'train': (X_train, y_train), 'val': (X_valid, y_valid)}\n",
    "dataset_sizes = {'train': len(X_train), 'val': len(X_valid)}"
   ]
  },
  {
   "cell_type": "markdown",
   "id": "385935ef-f532-4a5b-8bef-0997bb2ccf27",
   "metadata": {
    "jp-MarkdownHeadingCollapsed": true
   },
   "source": [
    "# Model"
   ]
  },
  {
   "cell_type": "code",
   "execution_count": 89,
   "id": "d1642f24-5c6f-4d1c-b9fe-697ef3d7c29c",
   "metadata": {},
   "outputs": [],
   "source": [
    "import torch\n",
    "import torch.nn as nn\n",
    "from itertools import zip_longest\n",
    "\n",
    "class Embedding_recommender(nn.Module):\n",
    "    def __init__(self, n_users, n_movies, n_factors=50, embedding_dropout=0.03, hidden=10, dropouts=0.2):\n",
    "        super(Embedding_recommender, self).__init__()\n",
    "        hidden = get_list(hidden)\n",
    "        dropouts = get_list(dropouts)\n",
    "        n_last = hidden[-1]\n",
    "\n",
    "        def generate_layers(n_in):\n",
    "            nonlocal hidden, dropouts\n",
    "            assert len(dropouts) <= len(hidden)\n",
    "    \n",
    "            for n_out, rate in zip_longest(hidden, dropouts):\n",
    "                yield nn.Linear(n_in, n_out)\n",
    "                yield nn.ReLU()\n",
    "                if rate is not None and rate > 0.:\n",
    "                    yield nn.Dropout(rate)\n",
    "                n_in = n_out\n",
    "\n",
    "        self.u = nn.Embedding(n_users, n_factors)\n",
    "        self.m = nn.Embedding(n_movies, n_factors)\n",
    "        self.drop = nn.Dropout(embedding_dropout)\n",
    "        self.hidden = nn.Sequential(*list(generate_layers(n_factors * 2)))\n",
    "        self.fc = nn.Linear(n_last, 1)\n",
    "        self._init()\n",
    "\n",
    "    def forward(self, users, movies, minmax=None):\n",
    "        features = torch.cat([self.u(users), self.m(movies)], dim=1)\n",
    "        x = self.drop(features)\n",
    "        x = self.hidden(x)\n",
    "        out = torch.sigmoid(self.fc(x))\n",
    "        if minmax is not None:\n",
    "            min_rating, max_rating = minmax\n",
    "            out = out * (max_rating - min_rating + 1) + min_rating - 0.5\n",
    "        return out\n",
    "\n",
    "    def _init(self):\n",
    "        '''\n",
    "        Initialize weights.\n",
    "        '''\n",
    "        def init(m):\n",
    "            if type(m) == nn.Linear:\n",
    "                torch.nn.init.xavier_uniform_(m.weight)\n",
    "                m.bias.data.fill_(0.01)\n",
    "        self.u.weight.data.uniform_(-0.05, 0.05)\n",
    "        self.m.weight.data.uniform_(-0.05, 0.05)\n",
    "        self.hidden.apply(init)\n",
    "        init(self.fc)\n",
    "\n",
    "def get_list(n):\n",
    "    if isinstance(n, (int, float)):\n",
    "        return [n]\n",
    "    elif hasattr(n, '__iter__'):\n",
    "        return list(n)\n",
    "    raise TypeError('layers configuration should be a single number or a list of numbers')\n"
   ]
  },
  {
   "cell_type": "code",
   "execution_count": 92,
   "id": "a3e79b22-cecb-461a-a8d4-172e6d9658e2",
   "metadata": {
    "scrolled": true
   },
   "outputs": [
    {
     "data": {
      "text/plain": [
       "Embedding_recommender(\n",
       "  (u): Embedding(610, 150)\n",
       "  (m): Embedding(9724, 150)\n",
       "  (drop): Dropout(p=0.05, inplace=False)\n",
       "  (hidden): Sequential(\n",
       "    (0): Linear(in_features=300, out_features=500, bias=True)\n",
       "    (1): ReLU()\n",
       "    (2): Dropout(p=0.5, inplace=False)\n",
       "    (3): Linear(in_features=500, out_features=500, bias=True)\n",
       "    (4): ReLU()\n",
       "    (5): Dropout(p=0.5, inplace=False)\n",
       "    (6): Linear(in_features=500, out_features=500, bias=True)\n",
       "    (7): ReLU()\n",
       "    (8): Dropout(p=0.25, inplace=False)\n",
       "  )\n",
       "  (fc): Linear(in_features=500, out_features=1, bias=True)\n",
       ")"
      ]
     },
     "execution_count": 92,
     "metadata": {},
     "output_type": "execute_result"
    }
   ],
   "source": [
    "model = Embedding_recommender(n_users = n_users,\n",
    "                              n_movies = n_movies,\n",
    "                              n_factors = 150,\n",
    "                              hidden = [500,500,500],\n",
    "                              embedding_dropout = 0.05,\n",
    "                              dropouts = [0.5,0.5,0.25]\n",
    "                             )\n",
    "model"
   ]
  },
  {
   "cell_type": "markdown",
   "id": "99573f93-8ba4-43d7-ac00-0363bd86512a",
   "metadata": {},
   "source": [
    "# Train"
   ]
  },
  {
   "cell_type": "code",
   "execution_count": 109,
   "id": "a8a128b3-933a-4371-a29b-5c16d8f4b87d",
   "metadata": {
    "scrolled": true
   },
   "outputs": [
    {
     "name": "stderr",
     "output_type": "stream",
     "text": [
      "Epoch 1/200 [train]: 100%|████████████████████████████████████████████████| 403/403 [00:08<00:00, 45.30it/s, loss=1.18]\n",
      "Epoch 1/200 [val]:  25%|████████████▏                                    | 100/403 [00:00<00:01, 167.51it/s, loss=1.08]\n"
     ]
    },
    {
     "name": "stdout",
     "output_type": "stream",
     "text": [
      "loss improvement on epoch: 1\n",
      "[001/200] train: 1.1776 - val: 1.0737\n"
     ]
    },
    {
     "name": "stderr",
     "output_type": "stream",
     "text": [
      "Epoch 2/200 [train]: 100%|████████████████████████████████████████████████| 403/403 [00:05<00:00, 71.37it/s, loss=1.08]\n",
      "Epoch 2/200 [val]:  25%|████████████▏                                    | 100/403 [00:00<00:01, 177.96it/s, loss=1.07]\n"
     ]
    },
    {
     "name": "stdout",
     "output_type": "stream",
     "text": [
      "loss improvement on epoch: 2\n",
      "[002/200] train: 1.0803 - val: 1.0606\n"
     ]
    },
    {
     "name": "stderr",
     "output_type": "stream",
     "text": [
      "Epoch 3/200 [train]: 100%|████████████████████████████████████████████████| 403/403 [00:05<00:00, 72.08it/s, loss=1.06]\n",
      "Epoch 3/200 [val]:  25%|████████████▏                                    | 100/403 [00:00<00:01, 181.31it/s, loss=1.05]\n"
     ]
    },
    {
     "name": "stdout",
     "output_type": "stream",
     "text": [
      "loss improvement on epoch: 3\n",
      "[003/200] train: 1.0633 - val: 1.0400\n"
     ]
    },
    {
     "name": "stderr",
     "output_type": "stream",
     "text": [
      "Epoch 4/200 [train]: 100%|████████████████████████████████████████████████| 403/403 [00:06<00:00, 60.93it/s, loss=1.04]\n",
      "Epoch 4/200 [val]:  25%|████████████▏                                    | 100/403 [00:00<00:02, 139.64it/s, loss=1.02]\n"
     ]
    },
    {
     "name": "stdout",
     "output_type": "stream",
     "text": [
      "loss improvement on epoch: 4\n",
      "[004/200] train: 1.0394 - val: 1.0094\n"
     ]
    },
    {
     "name": "stderr",
     "output_type": "stream",
     "text": [
      "Epoch 5/200 [train]: 100%|███████████████████████████████████████████████████| 403/403 [00:05<00:00, 68.30it/s, loss=1]\n",
      "Epoch 5/200 [val]:  25%|███████████▉                                    | 100/403 [00:00<00:02, 145.33it/s, loss=0.977]\n"
     ]
    },
    {
     "name": "stdout",
     "output_type": "stream",
     "text": [
      "loss improvement on epoch: 5\n",
      "[005/200] train: 1.0029 - val: 0.9693\n"
     ]
    },
    {
     "name": "stderr",
     "output_type": "stream",
     "text": [
      "Epoch 6/200 [train]: 100%|███████████████████████████████████████████████| 403/403 [00:06<00:00, 65.66it/s, loss=0.956]\n",
      "Epoch 6/200 [val]:  25%|███████████▉                                    | 100/403 [00:00<00:02, 135.11it/s, loss=0.929]\n"
     ]
    },
    {
     "name": "stdout",
     "output_type": "stream",
     "text": [
      "loss improvement on epoch: 6\n",
      "[006/200] train: 0.9555 - val: 0.9213\n"
     ]
    },
    {
     "name": "stderr",
     "output_type": "stream",
     "text": [
      "Epoch 7/200 [train]: 100%|███████████████████████████████████████████████| 403/403 [00:06<00:00, 64.78it/s, loss=0.914]\n",
      "Epoch 7/200 [val]:  25%|███████████▉                                    | 100/403 [00:00<00:02, 137.27it/s, loss=0.898]\n"
     ]
    },
    {
     "name": "stdout",
     "output_type": "stream",
     "text": [
      "loss improvement on epoch: 7\n",
      "[007/200] train: 0.9129 - val: 0.8903\n"
     ]
    },
    {
     "name": "stderr",
     "output_type": "stream",
     "text": [
      "Epoch 8/200 [train]: 100%|███████████████████████████████████████████████| 403/403 [00:06<00:00, 66.31it/s, loss=0.883]\n",
      "Epoch 8/200 [val]:  25%|███████████▉                                    | 100/403 [00:00<00:01, 182.50it/s, loss=0.878]\n"
     ]
    },
    {
     "name": "stdout",
     "output_type": "stream",
     "text": [
      "loss improvement on epoch: 8\n",
      "[008/200] train: 0.8824 - val: 0.8710\n"
     ]
    },
    {
     "name": "stderr",
     "output_type": "stream",
     "text": [
      "Epoch 9/200 [train]: 100%|███████████████████████████████████████████████| 403/403 [00:05<00:00, 67.44it/s, loss=0.859]\n",
      "Epoch 9/200 [val]:  25%|███████████▉                                    | 100/403 [00:00<00:01, 169.68it/s, loss=0.859]\n"
     ]
    },
    {
     "name": "stdout",
     "output_type": "stream",
     "text": [
      "loss improvement on epoch: 9\n",
      "[009/200] train: 0.8584 - val: 0.8523\n"
     ]
    },
    {
     "name": "stderr",
     "output_type": "stream",
     "text": [
      "Epoch 10/200 [train]: 100%|██████████████████████████████████████████████| 403/403 [00:05<00:00, 69.02it/s, loss=0.842]\n",
      "Epoch 10/200 [val]:  25%|███████████▉                                    | 100/403 [00:00<00:01, 216.62it/s, loss=0.85]\n"
     ]
    },
    {
     "name": "stdout",
     "output_type": "stream",
     "text": [
      "loss improvement on epoch: 10\n",
      "[010/200] train: 0.8413 - val: 0.8433\n"
     ]
    },
    {
     "name": "stderr",
     "output_type": "stream",
     "text": [
      "Epoch 11/200 [train]: 100%|██████████████████████████████████████████████| 403/403 [00:05<00:00, 72.67it/s, loss=0.824]\n",
      "Epoch 11/200 [val]:  25%|███████████▋                                   | 100/403 [00:00<00:01, 201.23it/s, loss=0.837]\n"
     ]
    },
    {
     "name": "stdout",
     "output_type": "stream",
     "text": [
      "loss improvement on epoch: 11\n",
      "[011/200] train: 0.8232 - val: 0.8301\n"
     ]
    },
    {
     "name": "stderr",
     "output_type": "stream",
     "text": [
      "Epoch 12/200 [train]: 100%|███████████████████████████████████████████████| 403/403 [00:05<00:00, 73.92it/s, loss=0.81]\n",
      "Epoch 12/200 [val]:  25%|███████████▋                                   | 100/403 [00:00<00:01, 197.67it/s, loss=0.831]\n"
     ]
    },
    {
     "name": "stdout",
     "output_type": "stream",
     "text": [
      "loss improvement on epoch: 12\n",
      "[012/200] train: 0.8089 - val: 0.8240\n"
     ]
    },
    {
     "name": "stderr",
     "output_type": "stream",
     "text": [
      "Epoch 13/200 [train]: 100%|██████████████████████████████████████████████| 403/403 [00:05<00:00, 74.58it/s, loss=0.798]\n",
      "Epoch 13/200 [val]:  25%|███████████▋                                   | 100/403 [00:00<00:01, 228.91it/s, loss=0.822]\n"
     ]
    },
    {
     "name": "stdout",
     "output_type": "stream",
     "text": [
      "loss improvement on epoch: 13\n",
      "[013/200] train: 0.7969 - val: 0.8150\n"
     ]
    },
    {
     "name": "stderr",
     "output_type": "stream",
     "text": [
      "Epoch 14/200 [train]: 100%|██████████████████████████████████████████████| 403/403 [00:05<00:00, 75.50it/s, loss=0.784]\n",
      "Epoch 14/200 [val]:  25%|███████████▋                                   | 100/403 [00:00<00:01, 227.75it/s, loss=0.816]\n"
     ]
    },
    {
     "name": "stdout",
     "output_type": "stream",
     "text": [
      "loss improvement on epoch: 14\n",
      "[014/200] train: 0.7836 - val: 0.8096\n"
     ]
    },
    {
     "name": "stderr",
     "output_type": "stream",
     "text": [
      "Epoch 15/200 [train]: 100%|██████████████████████████████████████████████| 403/403 [00:05<00:00, 73.91it/s, loss=0.773]\n",
      "Epoch 15/200 [val]:  25%|███████████▋                                   | 100/403 [00:00<00:01, 160.89it/s, loss=0.811]\n"
     ]
    },
    {
     "name": "stdout",
     "output_type": "stream",
     "text": [
      "loss improvement on epoch: 15\n",
      "[015/200] train: 0.7719 - val: 0.8047\n"
     ]
    },
    {
     "name": "stderr",
     "output_type": "stream",
     "text": [
      "Epoch 16/200 [train]: 100%|██████████████████████████████████████████████| 403/403 [00:05<00:00, 71.96it/s, loss=0.761]\n",
      "Epoch 16/200 [val]:  25%|███████████▋                                   | 100/403 [00:00<00:01, 206.50it/s, loss=0.811]\n"
     ]
    },
    {
     "name": "stdout",
     "output_type": "stream",
     "text": [
      "loss improvement on epoch: 16\n",
      "[016/200] train: 0.7604 - val: 0.8039\n"
     ]
    },
    {
     "name": "stderr",
     "output_type": "stream",
     "text": [
      "Epoch 17/200 [train]: 100%|██████████████████████████████████████████████| 403/403 [00:05<00:00, 68.96it/s, loss=0.753]\n",
      "Epoch 17/200 [val]:  25%|███████████▋                                   | 100/403 [00:00<00:01, 207.15it/s, loss=0.803]\n"
     ]
    },
    {
     "name": "stdout",
     "output_type": "stream",
     "text": [
      "loss improvement on epoch: 17\n",
      "[017/200] train: 0.7520 - val: 0.7967\n"
     ]
    },
    {
     "name": "stderr",
     "output_type": "stream",
     "text": [
      "Epoch 18/200 [train]: 100%|██████████████████████████████████████████████| 403/403 [00:05<00:00, 70.90it/s, loss=0.744]\n",
      "Epoch 18/200 [val]:  25%|███████████▋                                   | 100/403 [00:00<00:02, 141.17it/s, loss=0.798]\n"
     ]
    },
    {
     "name": "stdout",
     "output_type": "stream",
     "text": [
      "loss improvement on epoch: 18\n",
      "[018/200] train: 0.7432 - val: 0.7911\n"
     ]
    },
    {
     "name": "stderr",
     "output_type": "stream",
     "text": [
      "Epoch 19/200 [train]: 100%|██████████████████████████████████████████████| 403/403 [00:05<00:00, 70.90it/s, loss=0.736]\n",
      "Epoch 19/200 [val]:  25%|███████████▋                                   | 100/403 [00:00<00:01, 213.47it/s, loss=0.796]\n"
     ]
    },
    {
     "name": "stdout",
     "output_type": "stream",
     "text": [
      "loss improvement on epoch: 19\n",
      "[019/200] train: 0.7351 - val: 0.7893\n"
     ]
    },
    {
     "name": "stderr",
     "output_type": "stream",
     "text": [
      "Epoch 20/200 [train]: 100%|██████████████████████████████████████████████| 403/403 [00:05<00:00, 69.72it/s, loss=0.729]\n",
      "Epoch 20/200 [val]:  25%|███████████▋                                   | 100/403 [00:00<00:01, 173.88it/s, loss=0.792]\n"
     ]
    },
    {
     "name": "stdout",
     "output_type": "stream",
     "text": [
      "loss improvement on epoch: 20\n",
      "[020/200] train: 0.7288 - val: 0.7856\n"
     ]
    },
    {
     "name": "stderr",
     "output_type": "stream",
     "text": [
      "Epoch 21/200 [train]: 100%|██████████████████████████████████████████████| 403/403 [00:05<00:00, 68.70it/s, loss=0.723]\n",
      "Epoch 21/200 [val]:  25%|███████████▋                                   | 100/403 [00:00<00:01, 206.41it/s, loss=0.792]\n"
     ]
    },
    {
     "name": "stdout",
     "output_type": "stream",
     "text": [
      "loss improvement on epoch: 21\n",
      "[021/200] train: 0.7225 - val: 0.7856\n"
     ]
    },
    {
     "name": "stderr",
     "output_type": "stream",
     "text": [
      "Epoch 22/200 [train]: 100%|██████████████████████████████████████████████| 403/403 [00:05<00:00, 70.73it/s, loss=0.715]\n",
      "Epoch 22/200 [val]:  25%|███████████▋                                   | 100/403 [00:00<00:01, 177.57it/s, loss=0.783]\n"
     ]
    },
    {
     "name": "stdout",
     "output_type": "stream",
     "text": [
      "loss improvement on epoch: 22\n",
      "[022/200] train: 0.7145 - val: 0.7763\n"
     ]
    },
    {
     "name": "stderr",
     "output_type": "stream",
     "text": [
      "Epoch 23/200 [train]: 100%|███████████████████████████████████████████████| 403/403 [00:05<00:00, 72.86it/s, loss=0.71]\n",
      "Epoch 23/200 [val]:  25%|███████████▋                                   | 100/403 [00:00<00:01, 201.65it/s, loss=0.784]\n"
     ]
    },
    {
     "name": "stdout",
     "output_type": "stream",
     "text": [
      "[023/200] train: 0.7089 - val: 0.7770\n"
     ]
    },
    {
     "name": "stderr",
     "output_type": "stream",
     "text": [
      "Epoch 24/200 [train]: 100%|██████████████████████████████████████████████| 403/403 [00:05<00:00, 72.62it/s, loss=0.705]\n",
      "Epoch 24/200 [val]:  25%|███████████▋                                   | 100/403 [00:00<00:01, 164.39it/s, loss=0.783]\n"
     ]
    },
    {
     "name": "stdout",
     "output_type": "stream",
     "text": [
      "[024/200] train: 0.7039 - val: 0.7764\n"
     ]
    },
    {
     "name": "stderr",
     "output_type": "stream",
     "text": [
      "Epoch 25/200 [train]: 100%|████████████████████████████████████████████████| 403/403 [00:05<00:00, 72.38it/s, loss=0.7]\n",
      "Epoch 25/200 [val]:  25%|███████████▋                                   | 100/403 [00:00<00:02, 150.93it/s, loss=0.781]\n"
     ]
    },
    {
     "name": "stdout",
     "output_type": "stream",
     "text": [
      "loss improvement on epoch: 25\n",
      "[025/200] train: 0.6990 - val: 0.7748\n"
     ]
    },
    {
     "name": "stderr",
     "output_type": "stream",
     "text": [
      "Epoch 26/200 [train]: 100%|██████████████████████████████████████████████| 403/403 [00:05<00:00, 76.28it/s, loss=0.694]\n",
      "Epoch 26/200 [val]:  25%|███████████▉                                    | 100/403 [00:00<00:01, 181.17it/s, loss=0.78]\n"
     ]
    },
    {
     "name": "stdout",
     "output_type": "stream",
     "text": [
      "loss improvement on epoch: 26\n",
      "[026/200] train: 0.6938 - val: 0.7738\n"
     ]
    },
    {
     "name": "stderr",
     "output_type": "stream",
     "text": [
      "Epoch 27/200 [train]: 100%|██████████████████████████████████████████████| 403/403 [00:05<00:00, 67.83it/s, loss=0.689]\n",
      "Epoch 27/200 [val]:  25%|███████████▋                                   | 100/403 [00:00<00:02, 145.95it/s, loss=0.782]\n"
     ]
    },
    {
     "name": "stdout",
     "output_type": "stream",
     "text": [
      "[027/200] train: 0.6884 - val: 0.7751\n"
     ]
    },
    {
     "name": "stderr",
     "output_type": "stream",
     "text": [
      "Epoch 28/200 [train]: 100%|██████████████████████████████████████████████| 403/403 [00:06<00:00, 65.00it/s, loss=0.686]\n",
      "Epoch 28/200 [val]:  25%|███████████▋                                   | 100/403 [00:00<00:01, 194.29it/s, loss=0.778]\n"
     ]
    },
    {
     "name": "stdout",
     "output_type": "stream",
     "text": [
      "loss improvement on epoch: 28\n",
      "[028/200] train: 0.6855 - val: 0.7719\n"
     ]
    },
    {
     "name": "stderr",
     "output_type": "stream",
     "text": [
      "Epoch 29/200 [train]: 100%|██████████████████████████████████████████████| 403/403 [00:06<00:00, 65.78it/s, loss=0.681]\n",
      "Epoch 29/200 [val]:  25%|███████████▋                                   | 100/403 [00:00<00:02, 151.37it/s, loss=0.778]\n"
     ]
    },
    {
     "name": "stdout",
     "output_type": "stream",
     "text": [
      "loss improvement on epoch: 29\n",
      "[029/200] train: 0.6806 - val: 0.7716\n"
     ]
    },
    {
     "name": "stderr",
     "output_type": "stream",
     "text": [
      "Epoch 30/200 [train]: 100%|██████████████████████████████████████████████| 403/403 [00:05<00:00, 69.47it/s, loss=0.678]\n",
      "Epoch 30/200 [val]:  25%|███████████▋                                   | 100/403 [00:00<00:01, 171.26it/s, loss=0.781]\n"
     ]
    },
    {
     "name": "stdout",
     "output_type": "stream",
     "text": [
      "[030/200] train: 0.6771 - val: 0.7741\n"
     ]
    },
    {
     "name": "stderr",
     "output_type": "stream",
     "text": [
      "Epoch 31/200 [train]: 100%|██████████████████████████████████████████████| 403/403 [00:05<00:00, 73.96it/s, loss=0.675]\n",
      "Epoch 31/200 [val]:  25%|███████████▋                                   | 100/403 [00:00<00:01, 205.93it/s, loss=0.775]\n"
     ]
    },
    {
     "name": "stdout",
     "output_type": "stream",
     "text": [
      "loss improvement on epoch: 31\n",
      "[031/200] train: 0.6748 - val: 0.7686\n"
     ]
    },
    {
     "name": "stderr",
     "output_type": "stream",
     "text": [
      "Epoch 32/200 [train]: 100%|███████████████████████████████████████████████| 403/403 [00:05<00:00, 77.24it/s, loss=0.67]\n",
      "Epoch 32/200 [val]:  25%|███████████▋                                   | 100/403 [00:00<00:01, 191.06it/s, loss=0.776]\n"
     ]
    },
    {
     "name": "stdout",
     "output_type": "stream",
     "text": [
      "[032/200] train: 0.6696 - val: 0.7696\n"
     ]
    },
    {
     "name": "stderr",
     "output_type": "stream",
     "text": [
      "Epoch 33/200 [train]: 100%|██████████████████████████████████████████████| 403/403 [00:05<00:00, 75.21it/s, loss=0.668]\n",
      "Epoch 33/200 [val]:  25%|███████████▋                                   | 100/403 [00:00<00:01, 203.94it/s, loss=0.774]\n"
     ]
    },
    {
     "name": "stdout",
     "output_type": "stream",
     "text": [
      "loss improvement on epoch: 33\n",
      "[033/200] train: 0.6671 - val: 0.7679\n"
     ]
    },
    {
     "name": "stderr",
     "output_type": "stream",
     "text": [
      "Epoch 34/200 [train]: 100%|██████████████████████████████████████████████| 403/403 [00:05<00:00, 76.61it/s, loss=0.665]\n",
      "Epoch 34/200 [val]:  25%|███████████▋                                   | 100/403 [00:00<00:01, 195.79it/s, loss=0.775]\n"
     ]
    },
    {
     "name": "stdout",
     "output_type": "stream",
     "text": [
      "[034/200] train: 0.6644 - val: 0.7685\n"
     ]
    },
    {
     "name": "stderr",
     "output_type": "stream",
     "text": [
      "Epoch 35/200 [train]: 100%|██████████████████████████████████████████████| 403/403 [00:05<00:00, 73.65it/s, loss=0.662]\n",
      "Epoch 35/200 [val]:  25%|███████████▋                                   | 100/403 [00:00<00:01, 200.84it/s, loss=0.776]\n"
     ]
    },
    {
     "name": "stdout",
     "output_type": "stream",
     "text": [
      "[035/200] train: 0.6618 - val: 0.7696\n"
     ]
    },
    {
     "name": "stderr",
     "output_type": "stream",
     "text": [
      "Epoch 36/200 [train]: 100%|███████████████████████████████████████████████| 403/403 [00:05<00:00, 72.70it/s, loss=0.66]\n",
      "Epoch 36/200 [val]:  25%|███████████▋                                   | 100/403 [00:00<00:02, 109.64it/s, loss=0.776]\n"
     ]
    },
    {
     "name": "stdout",
     "output_type": "stream",
     "text": [
      "[036/200] train: 0.6593 - val: 0.7691\n"
     ]
    },
    {
     "name": "stderr",
     "output_type": "stream",
     "text": [
      "Epoch 37/200 [train]: 100%|██████████████████████████████████████████████| 403/403 [00:06<00:00, 67.06it/s, loss=0.658]\n",
      "Epoch 37/200 [val]:  25%|███████████▋                                   | 100/403 [00:00<00:02, 115.76it/s, loss=0.774]\n"
     ]
    },
    {
     "name": "stdout",
     "output_type": "stream",
     "text": [
      "loss improvement on epoch: 37\n",
      "[037/200] train: 0.6578 - val: 0.7671\n"
     ]
    },
    {
     "name": "stderr",
     "output_type": "stream",
     "text": [
      "Epoch 38/200 [train]: 100%|██████████████████████████████████████████████| 403/403 [00:06<00:00, 61.51it/s, loss=0.657]\n",
      "Epoch 38/200 [val]:  25%|███████████▋                                   | 100/403 [00:00<00:01, 162.28it/s, loss=0.775]\n"
     ]
    },
    {
     "name": "stdout",
     "output_type": "stream",
     "text": [
      "[038/200] train: 0.6564 - val: 0.7681\n"
     ]
    },
    {
     "name": "stderr",
     "output_type": "stream",
     "text": [
      "Epoch 39/200 [train]: 100%|██████████████████████████████████████████████| 403/403 [00:05<00:00, 72.40it/s, loss=0.654]\n",
      "Epoch 39/200 [val]:  25%|███████████▋                                   | 100/403 [00:00<00:01, 163.73it/s, loss=0.772]\n"
     ]
    },
    {
     "name": "stdout",
     "output_type": "stream",
     "text": [
      "loss improvement on epoch: 39\n",
      "[039/200] train: 0.6530 - val: 0.7655\n"
     ]
    },
    {
     "name": "stderr",
     "output_type": "stream",
     "text": [
      "Epoch 40/200 [train]: 100%|██████████████████████████████████████████████| 403/403 [00:05<00:00, 67.59it/s, loss=0.652]\n",
      "Epoch 40/200 [val]:  25%|███████████▋                                   | 100/403 [00:00<00:01, 181.35it/s, loss=0.775]\n"
     ]
    },
    {
     "name": "stdout",
     "output_type": "stream",
     "text": [
      "[040/200] train: 0.6511 - val: 0.7681\n"
     ]
    },
    {
     "name": "stderr",
     "output_type": "stream",
     "text": [
      "Epoch 41/200 [train]: 100%|███████████████████████████████████████████████| 403/403 [00:05<00:00, 73.41it/s, loss=0.65]\n",
      "Epoch 41/200 [val]:  25%|███████████▋                                   | 100/403 [00:00<00:01, 191.23it/s, loss=0.772]\n"
     ]
    },
    {
     "name": "stdout",
     "output_type": "stream",
     "text": [
      "[041/200] train: 0.6491 - val: 0.7656\n"
     ]
    },
    {
     "name": "stderr",
     "output_type": "stream",
     "text": [
      "Epoch 42/200 [train]: 100%|██████████████████████████████████████████████| 403/403 [00:05<00:00, 74.09it/s, loss=0.648]\n",
      "Epoch 42/200 [val]:  25%|███████████▋                                   | 100/403 [00:00<00:01, 192.88it/s, loss=0.775]\n"
     ]
    },
    {
     "name": "stdout",
     "output_type": "stream",
     "text": [
      "[042/200] train: 0.6477 - val: 0.7686\n"
     ]
    },
    {
     "name": "stderr",
     "output_type": "stream",
     "text": [
      "Epoch 43/200 [train]: 100%|██████████████████████████████████████████████| 403/403 [00:05<00:00, 74.56it/s, loss=0.647]\n",
      "Epoch 43/200 [val]:  25%|███████████▋                                   | 100/403 [00:00<00:01, 181.67it/s, loss=0.775]\n"
     ]
    },
    {
     "name": "stdout",
     "output_type": "stream",
     "text": [
      "[043/200] train: 0.6465 - val: 0.7687\n"
     ]
    },
    {
     "name": "stderr",
     "output_type": "stream",
     "text": [
      "Epoch 44/200 [train]: 100%|██████████████████████████████████████████████| 403/403 [00:06<00:00, 66.19it/s, loss=0.644]\n",
      "Epoch 44/200 [val]:  25%|███████████▋                                   | 100/403 [00:00<00:01, 179.29it/s, loss=0.773]\n"
     ]
    },
    {
     "name": "stdout",
     "output_type": "stream",
     "text": [
      "[044/200] train: 0.6439 - val: 0.7670\n"
     ]
    },
    {
     "name": "stderr",
     "output_type": "stream",
     "text": [
      "Epoch 45/200 [train]: 100%|██████████████████████████████████████████████| 403/403 [00:05<00:00, 67.89it/s, loss=0.643]\n",
      "Epoch 45/200 [val]:  25%|███████████▋                                   | 100/403 [00:00<00:01, 187.32it/s, loss=0.771]\n"
     ]
    },
    {
     "name": "stdout",
     "output_type": "stream",
     "text": [
      "loss improvement on epoch: 45\n",
      "[045/200] train: 0.6420 - val: 0.7644\n"
     ]
    },
    {
     "name": "stderr",
     "output_type": "stream",
     "text": [
      "Epoch 46/200 [train]: 100%|██████████████████████████████████████████████| 403/403 [00:05<00:00, 69.61it/s, loss=0.642]\n",
      "Epoch 46/200 [val]:  25%|███████████▋                                   | 100/403 [00:00<00:01, 162.11it/s, loss=0.771]\n"
     ]
    },
    {
     "name": "stdout",
     "output_type": "stream",
     "text": [
      "[046/200] train: 0.6410 - val: 0.7644\n"
     ]
    },
    {
     "name": "stderr",
     "output_type": "stream",
     "text": [
      "Epoch 47/200 [train]: 100%|███████████████████████████████████████████████| 403/403 [00:05<00:00, 69.09it/s, loss=0.64]\n",
      "Epoch 47/200 [val]:  25%|███████████▋                                   | 100/403 [00:00<00:01, 188.86it/s, loss=0.773]\n"
     ]
    },
    {
     "name": "stdout",
     "output_type": "stream",
     "text": [
      "[047/200] train: 0.6392 - val: 0.7670\n"
     ]
    },
    {
     "name": "stderr",
     "output_type": "stream",
     "text": [
      "Epoch 48/200 [train]: 100%|██████████████████████████████████████████████| 403/403 [00:05<00:00, 72.40it/s, loss=0.637]\n",
      "Epoch 48/200 [val]:  25%|███████████▋                                   | 100/403 [00:00<00:01, 174.24it/s, loss=0.776]\n"
     ]
    },
    {
     "name": "stdout",
     "output_type": "stream",
     "text": [
      "[048/200] train: 0.6360 - val: 0.7697\n"
     ]
    },
    {
     "name": "stderr",
     "output_type": "stream",
     "text": [
      "Epoch 49/200 [train]: 100%|██████████████████████████████████████████████| 403/403 [00:05<00:00, 73.02it/s, loss=0.637]\n",
      "Epoch 49/200 [val]:  25%|███████████▋                                   | 100/403 [00:00<00:01, 154.35it/s, loss=0.773]\n"
     ]
    },
    {
     "name": "stdout",
     "output_type": "stream",
     "text": [
      "[049/200] train: 0.6367 - val: 0.7661\n"
     ]
    },
    {
     "name": "stderr",
     "output_type": "stream",
     "text": [
      "Epoch 50/200 [train]: 100%|██████████████████████████████████████████████| 403/403 [00:05<00:00, 75.05it/s, loss=0.635]\n",
      "Epoch 50/200 [val]:  25%|███████████▋                                   | 100/403 [00:00<00:01, 162.29it/s, loss=0.769]\n"
     ]
    },
    {
     "name": "stdout",
     "output_type": "stream",
     "text": [
      "loss improvement on epoch: 50\n",
      "[050/200] train: 0.6350 - val: 0.7628\n"
     ]
    },
    {
     "name": "stderr",
     "output_type": "stream",
     "text": [
      "Epoch 51/200 [train]: 100%|██████████████████████████████████████████████| 403/403 [00:05<00:00, 74.07it/s, loss=0.635]\n",
      "Epoch 51/200 [val]:  25%|███████████▋                                   | 100/403 [00:00<00:01, 187.77it/s, loss=0.774]\n"
     ]
    },
    {
     "name": "stdout",
     "output_type": "stream",
     "text": [
      "[051/200] train: 0.6340 - val: 0.7676\n"
     ]
    },
    {
     "name": "stderr",
     "output_type": "stream",
     "text": [
      "Epoch 52/200 [train]: 100%|██████████████████████████████████████████████| 403/403 [00:05<00:00, 72.65it/s, loss=0.632]\n",
      "Epoch 52/200 [val]:  25%|███████████▋                                   | 100/403 [00:00<00:01, 199.18it/s, loss=0.775]\n"
     ]
    },
    {
     "name": "stdout",
     "output_type": "stream",
     "text": [
      "[052/200] train: 0.6315 - val: 0.7687\n"
     ]
    },
    {
     "name": "stderr",
     "output_type": "stream",
     "text": [
      "Epoch 53/200 [train]: 100%|██████████████████████████████████████████████| 403/403 [00:05<00:00, 75.72it/s, loss=0.631]\n",
      "Epoch 53/200 [val]:  25%|███████████▋                                   | 100/403 [00:00<00:01, 199.93it/s, loss=0.771]\n"
     ]
    },
    {
     "name": "stdout",
     "output_type": "stream",
     "text": [
      "[053/200] train: 0.6306 - val: 0.7643\n"
     ]
    },
    {
     "name": "stderr",
     "output_type": "stream",
     "text": [
      "Epoch 54/200 [train]: 100%|███████████████████████████████████████████████| 403/403 [00:05<00:00, 73.80it/s, loss=0.63]\n",
      "Epoch 54/200 [val]:  25%|███████████▋                                   | 100/403 [00:00<00:02, 118.39it/s, loss=0.773]\n"
     ]
    },
    {
     "name": "stdout",
     "output_type": "stream",
     "text": [
      "[054/200] train: 0.6292 - val: 0.7662\n"
     ]
    },
    {
     "name": "stderr",
     "output_type": "stream",
     "text": [
      "Epoch 55/200 [train]: 100%|██████████████████████████████████████████████| 403/403 [00:08<00:00, 48.05it/s, loss=0.629]\n",
      "Epoch 55/200 [val]:  25%|███████████▋                                   | 100/403 [00:00<00:02, 108.81it/s, loss=0.768]\n"
     ]
    },
    {
     "name": "stdout",
     "output_type": "stream",
     "text": [
      "loss improvement on epoch: 55\n",
      "[055/200] train: 0.6283 - val: 0.7612\n"
     ]
    },
    {
     "name": "stderr",
     "output_type": "stream",
     "text": [
      "Epoch 56/200 [train]: 100%|██████████████████████████████████████████████| 403/403 [00:09<00:00, 42.59it/s, loss=0.626]\n",
      "Epoch 56/200 [val]:  25%|███████████▋                                   | 100/403 [00:00<00:02, 116.05it/s, loss=0.773]\n"
     ]
    },
    {
     "name": "stdout",
     "output_type": "stream",
     "text": [
      "[056/200] train: 0.6258 - val: 0.7662\n"
     ]
    },
    {
     "name": "stderr",
     "output_type": "stream",
     "text": [
      "Epoch 57/200 [train]: 100%|██████████████████████████████████████████████| 403/403 [00:07<00:00, 52.90it/s, loss=0.625]\n",
      "Epoch 57/200 [val]:  25%|███████████▉                                    | 100/403 [00:01<00:03, 90.45it/s, loss=0.773]\n"
     ]
    },
    {
     "name": "stdout",
     "output_type": "stream",
     "text": [
      "[057/200] train: 0.6245 - val: 0.7668\n"
     ]
    },
    {
     "name": "stderr",
     "output_type": "stream",
     "text": [
      "Epoch 58/200 [train]: 100%|██████████████████████████████████████████████| 403/403 [00:07<00:00, 53.32it/s, loss=0.624]\n",
      "Epoch 58/200 [val]:  25%|███████████▉                                    | 100/403 [00:01<00:03, 82.84it/s, loss=0.774]\n"
     ]
    },
    {
     "name": "stdout",
     "output_type": "stream",
     "text": [
      "[058/200] train: 0.6230 - val: 0.7673\n"
     ]
    },
    {
     "name": "stderr",
     "output_type": "stream",
     "text": [
      "Epoch 59/200 [train]: 100%|██████████████████████████████████████████████| 403/403 [00:08<00:00, 48.44it/s, loss=0.623]\n",
      "Epoch 59/200 [val]:  25%|███████████▋                                   | 100/403 [00:00<00:01, 181.62it/s, loss=0.773]\n"
     ]
    },
    {
     "name": "stdout",
     "output_type": "stream",
     "text": [
      "[059/200] train: 0.6226 - val: 0.7666\n"
     ]
    },
    {
     "name": "stderr",
     "output_type": "stream",
     "text": [
      "Epoch 60/200 [train]: 100%|██████████████████████████████████████████████| 403/403 [00:07<00:00, 51.47it/s, loss=0.625]\n",
      "Epoch 60/200 [val]:  25%|███████████▋                                   | 100/403 [00:00<00:02, 103.35it/s, loss=0.766]\n"
     ]
    },
    {
     "name": "stdout",
     "output_type": "stream",
     "text": [
      "loss improvement on epoch: 60\n",
      "[060/200] train: 0.6250 - val: 0.7599\n"
     ]
    },
    {
     "name": "stderr",
     "output_type": "stream",
     "text": [
      "Epoch 61/200 [train]: 100%|██████████████████████████████████████████████| 403/403 [00:08<00:00, 48.29it/s, loss=0.622]\n",
      "Epoch 61/200 [val]:  25%|███████████▋                                   | 100/403 [00:00<00:01, 153.29it/s, loss=0.772]\n"
     ]
    },
    {
     "name": "stdout",
     "output_type": "stream",
     "text": [
      "[061/200] train: 0.6217 - val: 0.7652\n"
     ]
    },
    {
     "name": "stderr",
     "output_type": "stream",
     "text": [
      "Epoch 62/200 [train]: 100%|██████████████████████████████████████████████| 403/403 [00:08<00:00, 50.19it/s, loss=0.621]\n",
      "Epoch 62/200 [val]:  25%|███████████▋                                   | 100/403 [00:00<00:02, 105.13it/s, loss=0.774]\n"
     ]
    },
    {
     "name": "stdout",
     "output_type": "stream",
     "text": [
      "[062/200] train: 0.6204 - val: 0.7679\n"
     ]
    },
    {
     "name": "stderr",
     "output_type": "stream",
     "text": [
      "Epoch 63/200 [train]: 100%|██████████████████████████████████████████████| 403/403 [00:09<00:00, 44.10it/s, loss=0.617]\n",
      "Epoch 63/200 [val]:  25%|███████████▉                                    | 100/403 [00:01<00:03, 96.17it/s, loss=0.775]\n"
     ]
    },
    {
     "name": "stdout",
     "output_type": "stream",
     "text": [
      "[063/200] train: 0.6168 - val: 0.7687\n"
     ]
    },
    {
     "name": "stderr",
     "output_type": "stream",
     "text": [
      "Epoch 64/200 [train]: 100%|██████████████████████████████████████████████| 403/403 [00:07<00:00, 51.93it/s, loss=0.619]\n",
      "Epoch 64/200 [val]:  25%|███████████▋                                   | 100/403 [00:00<00:01, 180.82it/s, loss=0.773]\n"
     ]
    },
    {
     "name": "stdout",
     "output_type": "stream",
     "text": [
      "[064/200] train: 0.6181 - val: 0.7661\n"
     ]
    },
    {
     "name": "stderr",
     "output_type": "stream",
     "text": [
      "Epoch 65/200 [train]: 100%|██████████████████████████████████████████████| 403/403 [00:06<00:00, 65.08it/s, loss=0.617]\n",
      "Epoch 65/200 [val]:  25%|███████████▋                                   | 100/403 [00:00<00:01, 183.53it/s, loss=0.775]\n"
     ]
    },
    {
     "name": "stdout",
     "output_type": "stream",
     "text": [
      "[065/200] train: 0.6164 - val: 0.7681\n"
     ]
    },
    {
     "name": "stderr",
     "output_type": "stream",
     "text": [
      "Epoch 66/200 [train]: 100%|██████████████████████████████████████████████| 403/403 [00:05<00:00, 68.27it/s, loss=0.616]\n",
      "Epoch 66/200 [val]:  25%|███████████▋                                   | 100/403 [00:00<00:01, 172.62it/s, loss=0.771]\n"
     ]
    },
    {
     "name": "stdout",
     "output_type": "stream",
     "text": [
      "[066/200] train: 0.6151 - val: 0.7649\n"
     ]
    },
    {
     "name": "stderr",
     "output_type": "stream",
     "text": [
      "Epoch 67/200 [train]: 100%|██████████████████████████████████████████████| 403/403 [00:05<00:00, 69.29it/s, loss=0.616]\n",
      "Epoch 67/200 [val]:  25%|███████████▋                                   | 100/403 [00:00<00:01, 174.28it/s, loss=0.773]\n"
     ]
    },
    {
     "name": "stdout",
     "output_type": "stream",
     "text": [
      "[067/200] train: 0.6155 - val: 0.7662\n"
     ]
    },
    {
     "name": "stderr",
     "output_type": "stream",
     "text": [
      "Epoch 68/200 [train]: 100%|██████████████████████████████████████████████| 403/403 [00:05<00:00, 70.48it/s, loss=0.614]\n",
      "Epoch 68/200 [val]:  25%|███████████▋                                   | 100/403 [00:00<00:01, 183.57it/s, loss=0.775]\n"
     ]
    },
    {
     "name": "stdout",
     "output_type": "stream",
     "text": [
      "[068/200] train: 0.6133 - val: 0.7681\n"
     ]
    },
    {
     "name": "stderr",
     "output_type": "stream",
     "text": [
      "Epoch 69/200 [train]: 100%|██████████████████████████████████████████████| 403/403 [00:05<00:00, 67.40it/s, loss=0.613]\n",
      "Epoch 69/200 [val]:  25%|███████████▋                                   | 100/403 [00:00<00:01, 181.11it/s, loss=0.773]\n"
     ]
    },
    {
     "name": "stdout",
     "output_type": "stream",
     "text": [
      "[069/200] train: 0.6128 - val: 0.7662\n"
     ]
    },
    {
     "name": "stderr",
     "output_type": "stream",
     "text": [
      "Epoch 70/200 [train]: 100%|██████████████████████████████████████████████| 403/403 [00:05<00:00, 69.29it/s, loss=0.612]\n",
      "Epoch 70/200 [val]:  25%|███████████▋                                   | 100/403 [00:00<00:01, 179.98it/s, loss=0.773]"
     ]
    },
    {
     "name": "stdout",
     "output_type": "stream",
     "text": [
      "[070/200] train: 0.6118 - val: 0.7663\n",
      "early stopping after epoch 070\n"
     ]
    },
    {
     "name": "stderr",
     "output_type": "stream",
     "text": [
      "\n"
     ]
    }
   ],
   "source": [
    "import torch\n",
    "import torch.nn as nn\n",
    "import torch.optim as optim\n",
    "import numpy as np\n",
    "import math\n",
    "import copy\n",
    "from tqdm import tqdm\n",
    "\n",
    "# Parameters\n",
    "lr = 1e-5\n",
    "wd = 1e-5\n",
    "bs = 200\n",
    "n_epochs = 200\n",
    "patience = 10\n",
    "no_improvements = 0\n",
    "best_loss = np.inf\n",
    "best_weights = None\n",
    "history = []\n",
    "\n",
    "# Assuming 'model', 'device', 'dataset_sizes', 'datasets', and 'batches' are already defined\n",
    "model.to(device)\n",
    "criterion = nn.MSELoss(reduction='sum')\n",
    "optimizer = optim.Adam(model.parameters(), lr=lr, weight_decay=wd)\n",
    "iterations_per_epoch = int(math.ceil(dataset_sizes['train'] // bs))\n",
    "\n",
    "for epoch in range(n_epochs):\n",
    "    stats = {'epoch': epoch + 1, 'total': n_epochs}\n",
    "    \n",
    "    for phase in ('train', 'val'):\n",
    "        training = phase == 'train'\n",
    "        running_loss = 0.0\n",
    "        n_batches = 0\n",
    "        batch_num = 0\n",
    "        pbar = tqdm(batches(*datasets[phase], shuffle=training, bs=bs), total=iterations_per_epoch, desc=f'Epoch {epoch+1}/{n_epochs} [{phase}]')\n",
    "\n",
    "        for batch in pbar:\n",
    "            x_batch, y_batch = [b.to(device) for b in batch]\n",
    "            optimizer.zero_grad()\n",
    "            # compute gradients only during 'train' phase\n",
    "            with torch.set_grad_enabled(training):\n",
    "                outputs = model(x_batch[:, 0], x_batch[:, 1], minmax)\n",
    "                loss = criterion(outputs, y_batch)\n",
    "                \n",
    "                # don't update weights and rates when in 'val' phase\n",
    "                if training:\n",
    "                    loss.backward()\n",
    "                    optimizer.step()\n",
    "                    \n",
    "            running_loss += loss.item()\n",
    "            batch_num += 1\n",
    "            pbar.set_postfix({'loss': running_loss / (batch_num * bs)})\n",
    "            \n",
    "        epoch_loss = running_loss / dataset_sizes[phase]\n",
    "        stats[phase] = epoch_loss\n",
    "        \n",
    "        # early stopping: save weights of the best model so far\n",
    "        if phase == 'val':\n",
    "            if epoch_loss < best_loss:\n",
    "                print('loss improvement on epoch: %d' % (epoch + 1))\n",
    "                best_loss = epoch_loss\n",
    "                best_weights = copy.deepcopy(model.state_dict())\n",
    "                no_improvements = 0\n",
    "            else:\n",
    "                no_improvements += 1\n",
    "                \n",
    "    history.append(stats)\n",
    "    print('[{epoch:03d}/{total:03d}] train: {train:.4f} - val: {val:.4f}'.format(**stats))\n",
    "    if no_improvements >= patience:\n",
    "        print('early stopping after epoch {epoch:03d}'.format(**stats))\n",
    "        break\n"
   ]
  },
  {
   "cell_type": "code",
   "execution_count": 110,
   "id": "8331f6cc-5a61-482d-908f-802e91634492",
   "metadata": {},
   "outputs": [
    {
     "data": {
      "image/png": "[encoded data removed]",
      "text/plain": [
       "<Figure size 640x480 with 1 Axes>"
      ]
     },
     "metadata": {},
     "output_type": "display_data"
    }
   ],
   "source": [
    "ax = pd.DataFrame(history).drop(columns='total').plot(x='epoch')"
   ]
  },
  {
   "cell_type": "markdown",
   "id": "6c12de93-a99f-4047-97b4-9551ca44f8a6",
   "metadata": {},
   "source": [
    "# Validation"
   ]
  },
  {
   "cell_type": "code",
   "execution_count": 111,
   "id": "563be9c0-72c6-42aa-b00d-c3c3917ee613",
   "metadata": {},
   "outputs": [
    {
     "name": "stdout",
     "output_type": "stream",
     "text": [
      "Final RMSE: 0.8786\n"
     ]
    }
   ],
   "source": [
    "groud_truth, predictions = [], []\n",
    "\n",
    "with torch.no_grad():\n",
    "    for batch in batches(*datasets['val'], shuffle=False, bs=bs):\n",
    "        x_batch, y_batch = [b.to(device) for b in batch]\n",
    "        outputs = model(x_batch[:, 0], x_batch[:, 1], minmax)\n",
    "        groud_truth.extend(y_batch.tolist())\n",
    "        predictions.extend(outputs.tolist())\n",
    "\n",
    "groud_truth = np.asarray(groud_truth).ravel()\n",
    "predictions = np.asarray(predictions).ravel()\n",
    "\n",
    "final_loss = np.sqrt(np.mean((np.array(predictions) - np.array(groud_truth))**2))\n",
    "print(f'Final RMSE: {final_loss:.4f}')"
   ]
  },
  {
   "cell_type": "markdown",
   "id": "4ab7db43-bdd6-4e5a-8b58-031395f5322b",
   "metadata": {},
   "source": [
    "# Build recommendation system"
   ]
  },
  {
   "cell_type": "code",
   "execution_count": 112,
   "id": "fa0edbbe-7088-4800-b58a-cc7930cfaf3c",
   "metadata": {},
   "outputs": [],
   "source": [
    "device=\"cpu\"\n",
    "def recommender_system(user_id, model, n_movies):\n",
    "    model = model.to(device)\n",
    "    seen_movies = set(X[X['user_id'] == user_id]['movie_id'])\n",
    "    print(f\"Total movies seen by the user: {len(seen_movies)}\")\n",
    "    user_ratings = y[X['user_id'] == user_id]\n",
    "    print(\"=====================================================================\")\n",
    "    print(f\"Some top rated movies (rating = {user_ratings.max()}) seen by the user:\")\n",
    "    print(\"=====================================================================\\n\")\n",
    "    top_rated_movie_ids = X.loc[(X['user_id'] == user_id) & (y == user_ratings.max()), \"movie_id\"]\n",
    "    print(\"\\n\".join(movies[movies.movieId.isin(top_rated_movie_ids)].title.iloc[:10].tolist()))\n",
    "    print(\"\")\n",
    "    \n",
    "    unseen_movies = list(set(ratings.movieId) - set(seen_movies))\n",
    "    unseen_movies_index = [movie_to_index[i] for i in unseen_movies]\n",
    "    \n",
    "    model_input = (torch.tensor([user_id]*len(unseen_movies_index), device=device), \n",
    "                   torch.tensor(unseen_movies_index, device=device))\n",
    "    \n",
    "    with torch.no_grad():\n",
    "        predicted_ratings = model(*model_input, minmax).detach().numpy()\n",
    "    \n",
    "    zipped_pred = zip(unseen_movies, predicted_ratings)\n",
    "    sorted_movie_index = list(zip(*sorted(zipped_pred, key=lambda c: c[1], reverse=True)))[0]\n",
    "    recommended_movies = movies[movies.movieId.isin(sorted_movie_index)].title.tolist()\n",
    "    \n",
    "    print(\"=====================================================================\")\n",
    "    print(\"Top \"+str(n_movies)+\" Movie recommendations for the user \"+str(user_id)+ \" are:\")\n",
    "    print(\"=====================================================================\\n\")\n",
    "    print(\"\\n\".join(recommended_movies[:n_movies]))"
   ]
  },
  {
   "cell_type": "code",
   "execution_count": 118,
   "id": "c55b4c00-0e13-4de8-be55-ea83aad4d3a8",
   "metadata": {},
   "outputs": [
    {
     "name": "stdout",
     "output_type": "stream",
     "text": [
      "Total movies seen by the user: 646\n",
      "=====================================================================\n",
      "Some top rated movies (rating = 5.0) seen by the user:\n",
      "=====================================================================\n",
      "\n",
      "Money Train (1995)\n",
      "Waterworld (1995)\n",
      "French Kiss (1995)\n",
      "Goofy Movie, A (1995)\n",
      "I.Q. (1994)\n",
      "Victor/Victoria (1982)\n",
      "Mediterraneo (1991)\n",
      "Nightmare on Elm Street, A (1984)\n",
      "Young Guns (1988)\n",
      "I Went Down (1997)\n",
      "\n",
      "=====================================================================\n",
      "Top 20 Movie recommendations for the user 110 are:\n",
      "=====================================================================\n",
      "\n",
      "Toy Story (1995)\n",
      "Jumanji (1995)\n",
      "Grumpier Old Men (1995)\n",
      "Waiting to Exhale (1995)\n",
      "Father of the Bride Part II (1995)\n",
      "Heat (1995)\n",
      "Sabrina (1995)\n",
      "Tom and Huck (1995)\n",
      "Sudden Death (1995)\n",
      "GoldenEye (1995)\n",
      "American President, The (1995)\n",
      "Dracula: Dead and Loving It (1995)\n",
      "Balto (1995)\n",
      "Nixon (1995)\n",
      "Cutthroat Island (1995)\n",
      "Casino (1995)\n",
      "Sense and Sensibility (1995)\n",
      "Four Rooms (1995)\n",
      "Ace Ventura: When Nature Calls (1995)\n",
      "Get Shorty (1995)\n"
     ]
    }
   ],
   "source": [
    "recommender_system(110, model, 20)"
   ]
  },
  {
   "cell_type": "code",
   "execution_count": null,
   "id": "66349576-f2a4-4402-9dd2-f1cf022cb2b8",
   "metadata": {},
   "outputs": [],
   "source": []
  },
  {
   "cell_type": "code",
   "execution_count": null,
   "id": "21755c5b-367f-48b8-b13f-c0a8de5843a0",
   "metadata": {},
   "outputs": [],
   "source": []
  }
 ],
 "metadata": {
  "kernelspec": {
   "display_name": "ML",
   "language": "python",
   "name": "ml"
  },
  "language_info": {
   "codemirror_mode": {
    "name": "ipython",
    "version": 3
   },
   "file_extension": ".py",
   "mimetype": "text/x-python",
   "name": "python",
   "nbconvert_exporter": "python",
   "pygments_lexer": "ipython3",
   "version": "3.10.14"
  }
 },
 "nbformat": 4,
 "nbformat_minor": 5
}
